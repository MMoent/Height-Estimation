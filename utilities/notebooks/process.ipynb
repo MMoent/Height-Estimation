{
 "cells": [
  {
   "cell_type": "code",
   "execution_count": 1,
   "metadata": {},
   "outputs": [],
   "source": [
    "import os, glob, shutil\n",
    "import cv2\n",
    "import numpy as np"
   ]
  },
  {
   "cell_type": "code",
   "execution_count": 12,
   "metadata": {},
   "outputs": [
    {
     "name": "stdout",
     "output_type": "stream",
     "text": [
      "Ws3vCQZP01ZGUhoI-Dt0aA_sky.png\r"
     ]
    }
   ],
   "source": [
    "for i in os.listdir('sky'):\n",
    "    path = os.path.join('sky', i)\n",
    "    im = cv2.imread(path, cv2.IMREAD_UNCHANGED) * 255\n",
    "    im = np.repeat(im[..., None], 3, axis=-1)\n",
    "    cv2.imwrite(path, im)\n",
    "    print(i, end='\\r')"
   ]
  },
  {
   "cell_type": "code",
   "execution_count": 18,
   "metadata": {},
   "outputs": [
    {
     "name": "stdout",
     "output_type": "stream",
     "text": [
      "aerial mean: 0.4485537493150323, 0.47377605990113797, 0.4520951120606348\n",
      "aerial std: 0.1799316263889618, 0.1567772635735416, 0.14737897874657677\n",
      "pano mean: 0.5530911549660469, 0.5883250463786659, 0.6191158691144336\n",
      "pano std: 0.2013322671333761, 0.20358427316458785, 0.259951481179659\n",
      "pers mean: 0.5218266591569727, 0.5440521600501663, 0.5402383901540365\n",
      "pers std: 0.2188596964888206, 0.2207308030146343, 0.2690737387393161\n"
     ]
    }
   ],
   "source": [
    "with open('all.txt', 'r') as f:\n",
    "    ids = [i.strip() for i in f.readlines()]\n",
    "\n",
    "import matplotlib.pyplot as plt\n",
    "\n",
    "aerial_mean = np.array([0., 0., 0.])\n",
    "aerial_std = np.array([0., 0., 0.])\n",
    "pano_mean = np.array([0., 0., 0.])\n",
    "pano_std = np.array([0., 0., 0.])\n",
    "pers_mean = np.array([0., 0., 0.])\n",
    "pers_std = np.array([0., 0., 0.])\n",
    "\n",
    "for i in ids:\n",
    "    aerial = cv2.imread(os.path.join('aerial', i+'_aerial.tif'), cv2.IMREAD_UNCHANGED)\n",
    "    aerial = cv2.cvtColor(aerial, cv2.COLOR_BGR2RGB)  / 255.0\n",
    "    pano = cv2.imread(os.path.join('pano', i+'.png'), cv2.IMREAD_UNCHANGED) \n",
    "    pano = cv2.cvtColor(pano, cv2.COLOR_BGR2RGB) / 255.0\n",
    "        \n",
    "    for t in range(3):\n",
    "        aerial_mean[t] += np.mean(aerial[..., t])\n",
    "        pano_mean[t] += np.mean(pano[..., t])\n",
    "        aerial_std[t] += np.std(aerial[..., t])\n",
    "        pano_std[t] += np.std(pano[..., t])\n",
    "        \n",
    "        for h in range(4):\n",
    "            pers = cv2.imread(os.path.join('pers', i+'_'+str(h*90).zfill(3)+'.png'), cv2.IMREAD_UNCHANGED) \n",
    "            pers = cv2.cvtColor(pers, cv2.COLOR_BGR2RGB) / 255.0\n",
    "            pers_mean[t] += np.mean(pers[..., t])\n",
    "            pers_std[t] += np.std(pers[..., t])\n",
    "            \n",
    "aerial_mean = aerial_mean / len(ids)\n",
    "pano_mean = pano_mean / len(ids)\n",
    "aerial_std = aerial_std / len(ids)\n",
    "pano_std = pano_std / len(ids)\n",
    "\n",
    "pers_mean = pers_mean / len(ids) / 4\n",
    "pers_std = pers_std / len(ids) / 4\n",
    "\n",
    "print(\"aerial mean:\", ', '.join(list(map(str, aerial_mean))))\n",
    "print(\"aerial std:\", ', '.join(list(map(str, aerial_std))))\n",
    "print(\"pano mean:\", ', '.join(list(map(str, pano_mean))))\n",
    "print(\"pano std:\", ', '.join(list(map(str, pano_std))))\n",
    "print(\"pers mean:\", ', '.join(list(map(str, pers_mean))))\n",
    "print(\"pers std:\", ', '.join(list(map(str, pers_std))))"
   ]
  },
  {
   "cell_type": "code",
   "execution_count": 2,
   "metadata": {},
   "outputs": [
    {
     "name": "stdout",
     "output_type": "stream",
     "text": [
      "{(200, 200), (100, 200)}\n"
     ]
    }
   ],
   "source": [
    "all_coords = [(x, y) for x in range(256) for y in range(256)]\n",
    "sampled_pairs = set()\n",
    "\n",
    "sampled_pairs.add((100, 200))\n",
    "sampled_pairs.add((100, 200))\n",
    "sampled_pairs.add((200, 200))\n",
    "\n",
    "print(sampled_pairs)"
   ]
  },
  {
   "cell_type": "code",
   "execution_count": 3,
   "metadata": {},
   "outputs": [
    {
     "data": {
      "text/plain": [
       "tensor(4)"
      ]
     },
     "execution_count": 3,
     "metadata": {},
     "output_type": "execute_result"
    }
   ],
   "source": [
    "a = [1, 2, 3]\n",
    "sum(a)\n",
    "import torch\n",
    "a = [torch.tensor(2), torch.tensor(1), torch.tensor(1)]\n",
    "sum(a)"
   ]
  }
 ],
 "metadata": {
  "kernelspec": {
   "display_name": "pt",
   "language": "python",
   "name": "python3"
  },
  "language_info": {
   "codemirror_mode": {
    "name": "ipython",
    "version": 3
   },
   "file_extension": ".py",
   "mimetype": "text/x-python",
   "name": "python",
   "nbconvert_exporter": "python",
   "pygments_lexer": "ipython3",
   "version": "3.10.13"
  }
 },
 "nbformat": 4,
 "nbformat_minor": 2
}
